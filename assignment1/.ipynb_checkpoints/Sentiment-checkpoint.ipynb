{
 "cells": [
  {
   "cell_type": "code",
   "execution_count": 1,
   "id": "df54dba1",
   "metadata": {},
   "outputs": [],
   "source": [
    "import numpy as np\n",
    "import pandas as pd\n",
    "from os import walk\n",
    "import os\n",
    "\n",
    "#NLP stuff\n",
    "import string\n",
    "import nltk\n",
    "from nltk.tokenize import sent_tokenize, word_tokenize\n",
    "from nltk.stem import WordNetLemmatizer"
   ]
  },
  {
   "cell_type": "code",
   "execution_count": 2,
   "id": "139a3aec",
   "metadata": {},
   "outputs": [],
   "source": [
    "df = pd.read_csv('Data/raw_data.csv').set_index(['Year', 'ISO-alpha3 Code'])\n",
    "df = df.loc[2005:]"
   ]
  },
  {
   "cell_type": "code",
   "execution_count": 3,
   "id": "796767a1",
   "metadata": {},
   "outputs": [],
   "source": [
    "def remove_nonalpha(text):\n",
    "    return [word for word in text if word.isalpha()]\n",
    "\n",
    "def lemmitization(text):\n",
    "    \n",
    "    # use the wordnet lemmatizer\n",
    "    wordnet_lemmatizer = WordNetLemmatizer()\n",
    "    \n",
    "    # \n",
    "    nltk_lemmaList = []\n",
    "    for word in text:\n",
    "        nltk_lemmaList.append(wordnet_lemmatizer.lemmatize(word))\n",
    "    return nltk_lemmaList"
   ]
  },
  {
   "cell_type": "code",
   "execution_count": 4,
   "id": "9705ea4e",
   "metadata": {},
   "outputs": [],
   "source": [
    "def preprocess_data(data, preprocess_functions):\n",
    "    \"Performs given preprocessing functions on all text in a given dataframe\"\n",
    "    \n",
    "    # the initial list to store the processed speeches in\n",
    "    processed = []\n",
    "    \n",
    "    # iterate over all indices of the given dataframe\n",
    "    for index in data.index:\n",
    "        \n",
    "        # get the speech of this index and make it all lower case\n",
    "        speech = data['Speech'][index].lower()\n",
    "        \n",
    "        # skip this speech if it's not a string value\n",
    "        if not isinstance(speech, str):\n",
    "            continue\n",
    "        \n",
    "        # remove the \\t and \\n from the speech\n",
    "        speech = speech.replace(\"\\t\", \" \").replace(\"\\n\", \" \")\n",
    "        \n",
    "        # tokenize the speech\n",
    "        tokens = word_tokenize(speech)\n",
    "        \n",
    "        # move the tokenized text through the given preprocessing functions\n",
    "        for function in preprocess_functions:\n",
    "            tokens = function(tokens)\n",
    "            \n",
    "        # create a single string from the preprocessed tokens\n",
    "        processed_speech = \" \".join(tokens)\n",
    "        \n",
    "        # deconstruct the index\n",
    "        [year, code] = index\n",
    "        \n",
    "        # add the index and processed speech to this row\n",
    "        processed.append([year, code, processed_speech])\n",
    "        \n",
    "    # convert the preprocessed speeches to a dataframe with the ['Year', 'ISO-aplha3 Code'] index\n",
    "    return pd.DataFrame(processed, columns=['Year', 'ISO-alpha3 Code', 'Speech']).set_index(['Year', 'ISO-alpha3 Code'])\n"
   ]
  },
  {
   "cell_type": "code",
   "execution_count": 5,
   "id": "88307b34",
   "metadata": {},
   "outputs": [],
   "source": [
    "preprocessed_df = preprocess_data(df, [lemmitization])"
   ]
  },
  {
   "cell_type": "code",
   "execution_count": 6,
   "id": "d607169e",
   "metadata": {},
   "outputs": [],
   "source": [
    "from nltk.sentiment import SentimentIntensityAnalyzer\n",
    "\n",
    "def sentiment(df):\n",
    "    \n",
    "    # the sentiment analyzer we're going to use\n",
    "    sia = SentimentIntensityAnalyzer()\n",
    "\n",
    "    # the initial list to store the sentiment values in\n",
    "    sentiments = []\n",
    "\n",
    "    # iterate over all indices of the given dataframe\n",
    "    for index in df.index:\n",
    "\n",
    "        # deconstruct the current index\n",
    "        [year, code] = index\n",
    "\n",
    "        # get the polarity/sentiment score of the speech\n",
    "        scores = sia.polarity_scores(df.loc(axis=0)[index][\"Speech\"])\n",
    "        \n",
    "        # get the values from the scores dict\n",
    "        neg = scores['neg']\n",
    "        neu = scores['neu']\n",
    "        pos = scores['pos']\n",
    "        \n",
    "        # add the index and scores of this speech to the sentiment list\n",
    "        sentiments.append([year, code, neg, neu, pos])\n",
    "\n",
    "    # convert the sentiment list to a dataframe with the ['Year', 'ISO-aplha3 Code'] index\n",
    "    return pd.DataFrame(sentiments, columns=['Year', 'ISO-alpha3 Code', 'Neg', 'Neu', 'Pos']).set_index(['Year', 'ISO-alpha3 Code'])\n"
   ]
  },
  {
   "cell_type": "code",
   "execution_count": 7,
   "id": "5a5ddcd1",
   "metadata": {},
   "outputs": [],
   "source": [
    "sentiment_df = sentiment(preprocessed_df)"
   ]
  },
  {
   "cell_type": "code",
   "execution_count": 8,
   "id": "9a7fca0f",
   "metadata": {
    "scrolled": true
   },
   "outputs": [
    {
     "data": {
      "text/html": [
       "<div>\n",
       "<style scoped>\n",
       "    .dataframe tbody tr th:only-of-type {\n",
       "        vertical-align: middle;\n",
       "    }\n",
       "\n",
       "    .dataframe tbody tr th {\n",
       "        vertical-align: top;\n",
       "    }\n",
       "\n",
       "    .dataframe thead th {\n",
       "        text-align: right;\n",
       "    }\n",
       "</style>\n",
       "<table border=\"1\" class=\"dataframe\">\n",
       "  <thead>\n",
       "    <tr style=\"text-align: right;\">\n",
       "      <th></th>\n",
       "      <th>Neg</th>\n",
       "      <th>Neu</th>\n",
       "      <th>Pos</th>\n",
       "    </tr>\n",
       "  </thead>\n",
       "  <tbody>\n",
       "    <tr>\n",
       "      <th>min</th>\n",
       "      <td>0.011000</td>\n",
       "      <td>0.582000</td>\n",
       "      <td>0.072000</td>\n",
       "    </tr>\n",
       "    <tr>\n",
       "      <th>max</th>\n",
       "      <td>0.272000</td>\n",
       "      <td>0.869000</td>\n",
       "      <td>0.309000</td>\n",
       "    </tr>\n",
       "    <tr>\n",
       "      <th>mean</th>\n",
       "      <td>0.081830</td>\n",
       "      <td>0.727387</td>\n",
       "      <td>0.190792</td>\n",
       "    </tr>\n",
       "    <tr>\n",
       "      <th>var</th>\n",
       "      <td>0.000935</td>\n",
       "      <td>0.001515</td>\n",
       "      <td>0.001031</td>\n",
       "    </tr>\n",
       "  </tbody>\n",
       "</table>\n",
       "</div>"
      ],
      "text/plain": [
       "           Neg       Neu       Pos\n",
       "min   0.011000  0.582000  0.072000\n",
       "max   0.272000  0.869000  0.309000\n",
       "mean  0.081830  0.727387  0.190792\n",
       "var   0.000935  0.001515  0.001031"
      ]
     },
     "execution_count": 8,
     "metadata": {},
     "output_type": "execute_result"
    }
   ],
   "source": [
    "sentiment_df.aggregate([min, max, np.mean, np.var])"
   ]
  },
  {
   "cell_type": "code",
   "execution_count": 9,
   "id": "fd32ee32",
   "metadata": {},
   "outputs": [],
   "source": [
    "# merge the datasets\n",
    "merged_df = preprocessed_df.merge(sentiment_df, left_index = True, right_index = True)"
   ]
  },
  {
   "cell_type": "code",
   "execution_count": 10,
   "id": "e7918577",
   "metadata": {},
   "outputs": [],
   "source": [
    "merged_df.to_csv('Data/speeches_sentiment.csv')"
   ]
  },
  {
   "cell_type": "code",
   "execution_count": null,
   "id": "595ce3af",
   "metadata": {},
   "outputs": [],
   "source": []
  }
 ],
 "metadata": {
  "kernelspec": {
   "display_name": "Python 3",
   "language": "python",
   "name": "python3"
  },
  "language_info": {
   "codemirror_mode": {
    "name": "ipython",
    "version": 3
   },
   "file_extension": ".py",
   "mimetype": "text/x-python",
   "name": "python",
   "nbconvert_exporter": "python",
   "pygments_lexer": "ipython3",
   "version": "3.9.7"
  }
 },
 "nbformat": 4,
 "nbformat_minor": 5
}
