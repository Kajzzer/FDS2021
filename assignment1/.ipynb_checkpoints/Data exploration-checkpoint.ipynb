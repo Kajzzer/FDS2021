{
 "cells": [
  {
   "cell_type": "code",
   "execution_count": 1,
   "metadata": {},
   "outputs": [],
   "source": [
    "import pandas as pd\n",
    "import matplotlib.pyplot as plt\n",
    "import numpy as np\n",
    "import seaborn as sns\n",
    "import statsmodels.api as sm\n",
    "from scipy import stats"
   ]
  },
  {
   "cell_type": "code",
   "execution_count": null,
   "metadata": {},
   "outputs": [],
   "source": []
  },
  {
   "cell_type": "code",
   "execution_count": 2,
   "metadata": {},
   "outputs": [],
   "source": [
    "# Reading the combined data set\n",
    "sent_columns = ['neg', 'neu', 'pos'] #All columns related to sentiment of the speeches\n",
    "happy_columns = ['Life Ladder', 'Log GDP per capita', 'Social support', 'Healthy life expectancy at birth', 'Freedom to make life choices', 'Generosity', 'Perceptions of corruption', 'Positive affect', 'Negative affect'] # All columns related to the happiness dataset\n",
    "\n",
    "data = pd.read_csv(\"Data/full_dat.csv\", index_col=[0,1])[sent_columns + happy_columns]\n",
    "data.dropna(inplace=True) # Dropp all rows with a NaN"
   ]
  },
  {
   "cell_type": "code",
   "execution_count": 3,
   "metadata": {},
   "outputs": [
    {
     "data": {
      "text/html": [
       "<div>\n",
       "<style scoped>\n",
       "    .dataframe tbody tr th:only-of-type {\n",
       "        vertical-align: middle;\n",
       "    }\n",
       "\n",
       "    .dataframe tbody tr th {\n",
       "        vertical-align: top;\n",
       "    }\n",
       "\n",
       "    .dataframe thead th {\n",
       "        text-align: right;\n",
       "    }\n",
       "</style>\n",
       "<table border=\"1\" class=\"dataframe\">\n",
       "  <thead>\n",
       "    <tr style=\"text-align: right;\">\n",
       "      <th></th>\n",
       "      <th></th>\n",
       "      <th>neg</th>\n",
       "      <th>neu</th>\n",
       "      <th>pos</th>\n",
       "      <th>Life Ladder</th>\n",
       "      <th>Log GDP per capita</th>\n",
       "      <th>Social support</th>\n",
       "      <th>Healthy life expectancy at birth</th>\n",
       "      <th>Freedom to make life choices</th>\n",
       "      <th>Generosity</th>\n",
       "      <th>Perceptions of corruption</th>\n",
       "      <th>Positive affect</th>\n",
       "      <th>Negative affect</th>\n",
       "    </tr>\n",
       "    <tr>\n",
       "      <th>Country</th>\n",
       "      <th>Year</th>\n",
       "      <th></th>\n",
       "      <th></th>\n",
       "      <th></th>\n",
       "      <th></th>\n",
       "      <th></th>\n",
       "      <th></th>\n",
       "      <th></th>\n",
       "      <th></th>\n",
       "      <th></th>\n",
       "      <th></th>\n",
       "      <th></th>\n",
       "      <th></th>\n",
       "    </tr>\n",
       "  </thead>\n",
       "  <tbody>\n",
       "    <tr>\n",
       "      <th rowspan=\"5\" valign=\"top\">Austria</th>\n",
       "      <th>2006</th>\n",
       "      <td>0.074</td>\n",
       "      <td>0.743</td>\n",
       "      <td>0.183</td>\n",
       "      <td>7.122211</td>\n",
       "      <td>10.841940</td>\n",
       "      <td>0.936350</td>\n",
       "      <td>70.760002</td>\n",
       "      <td>0.941382</td>\n",
       "      <td>0.302386</td>\n",
       "      <td>0.490111</td>\n",
       "      <td>0.823105</td>\n",
       "      <td>0.173812</td>\n",
       "    </tr>\n",
       "    <tr>\n",
       "      <th>2008</th>\n",
       "      <td>0.078</td>\n",
       "      <td>0.683</td>\n",
       "      <td>0.239</td>\n",
       "      <td>7.180954</td>\n",
       "      <td>10.886662</td>\n",
       "      <td>0.934593</td>\n",
       "      <td>71.080002</td>\n",
       "      <td>0.879069</td>\n",
       "      <td>0.291309</td>\n",
       "      <td>0.613625</td>\n",
       "      <td>0.832170</td>\n",
       "      <td>0.173195</td>\n",
       "    </tr>\n",
       "    <tr>\n",
       "      <th>2010</th>\n",
       "      <td>0.060</td>\n",
       "      <td>0.698</td>\n",
       "      <td>0.242</td>\n",
       "      <td>7.302679</td>\n",
       "      <td>10.861471</td>\n",
       "      <td>0.914193</td>\n",
       "      <td>71.400002</td>\n",
       "      <td>0.895980</td>\n",
       "      <td>0.130891</td>\n",
       "      <td>0.546145</td>\n",
       "      <td>0.814719</td>\n",
       "      <td>0.155793</td>\n",
       "    </tr>\n",
       "    <tr>\n",
       "      <th>2011</th>\n",
       "      <td>0.063</td>\n",
       "      <td>0.723</td>\n",
       "      <td>0.214</td>\n",
       "      <td>7.470513</td>\n",
       "      <td>10.886909</td>\n",
       "      <td>0.944157</td>\n",
       "      <td>71.540001</td>\n",
       "      <td>0.939356</td>\n",
       "      <td>0.131578</td>\n",
       "      <td>0.702721</td>\n",
       "      <td>0.789471</td>\n",
       "      <td>0.145238</td>\n",
       "    </tr>\n",
       "    <tr>\n",
       "      <th>2012</th>\n",
       "      <td>0.094</td>\n",
       "      <td>0.693</td>\n",
       "      <td>0.213</td>\n",
       "      <td>7.400689</td>\n",
       "      <td>10.889132</td>\n",
       "      <td>0.945142</td>\n",
       "      <td>71.680000</td>\n",
       "      <td>0.919704</td>\n",
       "      <td>0.117804</td>\n",
       "      <td>0.770586</td>\n",
       "      <td>0.822248</td>\n",
       "      <td>0.156675</td>\n",
       "    </tr>\n",
       "  </tbody>\n",
       "</table>\n",
       "</div>"
      ],
      "text/plain": [
       "                neg    neu    pos  Life Ladder  Log GDP per capita  \\\n",
       "Country Year                                                         \n",
       "Austria 2006  0.074  0.743  0.183     7.122211           10.841940   \n",
       "        2008  0.078  0.683  0.239     7.180954           10.886662   \n",
       "        2010  0.060  0.698  0.242     7.302679           10.861471   \n",
       "        2011  0.063  0.723  0.214     7.470513           10.886909   \n",
       "        2012  0.094  0.693  0.213     7.400689           10.889132   \n",
       "\n",
       "              Social support  Healthy life expectancy at birth  \\\n",
       "Country Year                                                     \n",
       "Austria 2006        0.936350                         70.760002   \n",
       "        2008        0.934593                         71.080002   \n",
       "        2010        0.914193                         71.400002   \n",
       "        2011        0.944157                         71.540001   \n",
       "        2012        0.945142                         71.680000   \n",
       "\n",
       "              Freedom to make life choices  Generosity  \\\n",
       "Country Year                                             \n",
       "Austria 2006                      0.941382    0.302386   \n",
       "        2008                      0.879069    0.291309   \n",
       "        2010                      0.895980    0.130891   \n",
       "        2011                      0.939356    0.131578   \n",
       "        2012                      0.919704    0.117804   \n",
       "\n",
       "              Perceptions of corruption  Positive affect  Negative affect  \n",
       "Country Year                                                               \n",
       "Austria 2006                   0.490111         0.823105         0.173812  \n",
       "        2008                   0.613625         0.832170         0.173195  \n",
       "        2010                   0.546145         0.814719         0.155793  \n",
       "        2011                   0.702721         0.789471         0.145238  \n",
       "        2012                   0.770586         0.822248         0.156675  "
      ]
     },
     "execution_count": 3,
     "metadata": {},
     "output_type": "execute_result"
    }
   ],
   "source": [
    "data.head()"
   ]
  },
  {
   "cell_type": "markdown",
   "metadata": {},
   "source": [
    "# Cleaning data"
   ]
  },
  {
   "cell_type": "code",
   "execution_count": 4,
   "metadata": {},
   "outputs": [
    {
     "data": {
      "text/html": [
       "<div>\n",
       "<style scoped>\n",
       "    .dataframe tbody tr th:only-of-type {\n",
       "        vertical-align: middle;\n",
       "    }\n",
       "\n",
       "    .dataframe tbody tr th {\n",
       "        vertical-align: top;\n",
       "    }\n",
       "\n",
       "    .dataframe thead th {\n",
       "        text-align: right;\n",
       "    }\n",
       "</style>\n",
       "<table border=\"1\" class=\"dataframe\">\n",
       "  <thead>\n",
       "    <tr style=\"text-align: right;\">\n",
       "      <th></th>\n",
       "      <th>Total missing</th>\n",
       "      <th>Percent missing</th>\n",
       "    </tr>\n",
       "  </thead>\n",
       "  <tbody>\n",
       "    <tr>\n",
       "      <th>neg</th>\n",
       "      <td>0</td>\n",
       "      <td>0.0</td>\n",
       "    </tr>\n",
       "    <tr>\n",
       "      <th>neu</th>\n",
       "      <td>0</td>\n",
       "      <td>0.0</td>\n",
       "    </tr>\n",
       "    <tr>\n",
       "      <th>pos</th>\n",
       "      <td>0</td>\n",
       "      <td>0.0</td>\n",
       "    </tr>\n",
       "    <tr>\n",
       "      <th>Life Ladder</th>\n",
       "      <td>0</td>\n",
       "      <td>0.0</td>\n",
       "    </tr>\n",
       "    <tr>\n",
       "      <th>Log GDP per capita</th>\n",
       "      <td>0</td>\n",
       "      <td>0.0</td>\n",
       "    </tr>\n",
       "    <tr>\n",
       "      <th>Social support</th>\n",
       "      <td>0</td>\n",
       "      <td>0.0</td>\n",
       "    </tr>\n",
       "    <tr>\n",
       "      <th>Healthy life expectancy at birth</th>\n",
       "      <td>0</td>\n",
       "      <td>0.0</td>\n",
       "    </tr>\n",
       "    <tr>\n",
       "      <th>Freedom to make life choices</th>\n",
       "      <td>0</td>\n",
       "      <td>0.0</td>\n",
       "    </tr>\n",
       "    <tr>\n",
       "      <th>Generosity</th>\n",
       "      <td>0</td>\n",
       "      <td>0.0</td>\n",
       "    </tr>\n",
       "    <tr>\n",
       "      <th>Perceptions of corruption</th>\n",
       "      <td>0</td>\n",
       "      <td>0.0</td>\n",
       "    </tr>\n",
       "    <tr>\n",
       "      <th>Positive affect</th>\n",
       "      <td>0</td>\n",
       "      <td>0.0</td>\n",
       "    </tr>\n",
       "    <tr>\n",
       "      <th>Negative affect</th>\n",
       "      <td>0</td>\n",
       "      <td>0.0</td>\n",
       "    </tr>\n",
       "  </tbody>\n",
       "</table>\n",
       "</div>"
      ],
      "text/plain": [
       "                                  Total missing  Percent missing\n",
       "neg                                           0              0.0\n",
       "neu                                           0              0.0\n",
       "pos                                           0              0.0\n",
       "Life Ladder                                   0              0.0\n",
       "Log GDP per capita                            0              0.0\n",
       "Social support                                0              0.0\n",
       "Healthy life expectancy at birth              0              0.0\n",
       "Freedom to make life choices                  0              0.0\n",
       "Generosity                                    0              0.0\n",
       "Perceptions of corruption                     0              0.0\n",
       "Positive affect                               0              0.0\n",
       "Negative affect                               0              0.0"
      ]
     },
     "execution_count": 4,
     "metadata": {},
     "output_type": "execute_result"
    }
   ],
   "source": [
    "nans = data.isnull().sum().sort_values(ascending=False)\n",
    "relative = nans/data.shape[0]\n",
    "pd.concat([nans, relative], axis=1, keys=['Total missing', 'Percent missing'])"
   ]
  },
  {
   "cell_type": "markdown",
   "metadata": {},
   "source": [
    "The amount of missing data is fairly low. So we can allow ourselves to just remove all rows containing missing data."
   ]
  },
  {
   "cell_type": "code",
   "execution_count": 5,
   "metadata": {},
   "outputs": [],
   "source": [
    "data.dropna(inplace=True) # Dropp all rows with a NaN"
   ]
  },
  {
   "cell_type": "markdown",
   "metadata": {},
   "source": [
    "# Column information"
   ]
  },
  {
   "cell_type": "code",
   "execution_count": 6,
   "metadata": {},
   "outputs": [
    {
     "name": "stdout",
     "output_type": "stream",
     "text": [
      "count    1507.000000\n",
      "mean        0.080768\n",
      "std         0.029600\n",
      "min         0.014000\n",
      "25%         0.060000\n",
      "50%         0.078000\n",
      "75%         0.098000\n",
      "max         0.268000\n",
      "Name: neg, dtype: float64 \n",
      "\n",
      "count    1507.000000\n",
      "mean        0.739939\n",
      "std         0.038600\n",
      "min         0.611000\n",
      "25%         0.715000\n",
      "50%         0.740000\n",
      "75%         0.765000\n",
      "max         0.880000\n",
      "Name: neu, dtype: float64 \n",
      "\n",
      "count    1507.000000\n",
      "mean        0.179273\n",
      "std         0.032790\n",
      "min         0.073000\n",
      "25%         0.157000\n",
      "50%         0.180000\n",
      "75%         0.200000\n",
      "max         0.294000\n",
      "Name: pos, dtype: float64 \n",
      "\n",
      "count    1507.000000\n",
      "mean        5.444021\n",
      "std         1.146430\n",
      "min         2.375092\n",
      "25%         4.578878\n",
      "50%         5.321928\n",
      "75%         6.270446\n",
      "max         7.970892\n",
      "Name: Life Ladder, dtype: float64 \n",
      "\n",
      "count    1507.000000\n",
      "mean        9.323049\n",
      "std         1.162785\n",
      "min         6.635322\n",
      "25%         8.373846\n",
      "50%         9.465227\n",
      "75%        10.257615\n",
      "max        11.648169\n",
      "Name: Log GDP per capita, dtype: float64 \n",
      "\n",
      "count    1507.000000\n",
      "mean        0.810014\n",
      "std         0.123663\n",
      "min         0.290184\n",
      "25%         0.741068\n",
      "50%         0.838402\n",
      "75%         0.908054\n",
      "max         0.987343\n",
      "Name: Social support, dtype: float64 \n",
      "\n",
      "count    1507.000000\n",
      "mean       63.305262\n",
      "std         7.759107\n",
      "min        32.299999\n",
      "25%        58.150000\n",
      "50%        65.199997\n",
      "75%        68.900002\n",
      "max        77.099998\n",
      "Name: Healthy life expectancy at birth, dtype: float64 \n",
      "\n",
      "count    1507.000000\n",
      "mean        0.740387\n",
      "std         0.144894\n",
      "min         0.257534\n",
      "25%         0.645768\n",
      "50%         0.757634\n",
      "75%         0.856625\n",
      "max         0.985178\n",
      "Name: Freedom to make life choices, dtype: float64 \n",
      "\n",
      "count    1507.000000\n",
      "mean       -0.002089\n",
      "std         0.160331\n",
      "min        -0.335040\n",
      "25%        -0.114376\n",
      "50%        -0.021763\n",
      "75%         0.085420\n",
      "max         0.689318\n",
      "Name: Generosity, dtype: float64 \n",
      "\n",
      "count    1507.000000\n",
      "mean        0.748487\n",
      "std         0.191345\n",
      "min         0.035198\n",
      "25%         0.697473\n",
      "50%         0.806596\n",
      "75%         0.876117\n",
      "max         0.983276\n",
      "Name: Perceptions of corruption, dtype: float64 \n",
      "\n",
      "count    1507.000000\n",
      "mean        0.710601\n",
      "std         0.108901\n",
      "min         0.321690\n",
      "25%         0.625173\n",
      "50%         0.725214\n",
      "75%         0.803278\n",
      "max         0.943621\n",
      "Name: Positive affect, dtype: float64 \n",
      "\n",
      "count    1507.000000\n",
      "mean        0.269014\n",
      "std         0.080393\n",
      "min         0.106158\n",
      "25%         0.208559\n",
      "50%         0.259764\n",
      "75%         0.319202\n",
      "max         0.599335\n",
      "Name: Negative affect, dtype: float64 \n",
      "\n"
     ]
    },
    {
     "data": {
      "text/plain": [
       "[None, None, None, None, None, None, None, None, None, None, None, None]"
      ]
     },
     "execution_count": 6,
     "metadata": {},
     "output_type": "execute_result"
    }
   ],
   "source": [
    "[print(data[x].describe(), \"\\n\") for x in data.columns]"
   ]
  },
  {
   "cell_type": "markdown",
   "metadata": {},
   "source": []
  },
  {
   "cell_type": "code",
   "execution_count": null,
   "metadata": {},
   "outputs": [],
   "source": []
  },
  {
   "cell_type": "code",
   "execution_count": 7,
   "metadata": {},
   "outputs": [
    {
     "data": {
      "text/plain": [
       "Index(['neg', 'neu', 'pos', 'Life Ladder', 'Log GDP per capita',\n",
       "       'Social support', 'Healthy life expectancy at birth',\n",
       "       'Freedom to make life choices', 'Generosity',\n",
       "       'Perceptions of corruption', 'Positive affect', 'Negative affect'],\n",
       "      dtype='object')"
      ]
     },
     "execution_count": 7,
     "metadata": {},
     "output_type": "execute_result"
    }
   ],
   "source": [
    "data.columns"
   ]
  },
  {
   "cell_type": "markdown",
   "metadata": {},
   "source": [
    "# Normalizing the data"
   ]
  },
  {
   "cell_type": "code",
   "execution_count": 8,
   "metadata": {},
   "outputs": [],
   "source": [
    "def scale_df(dataframe, columns):\n",
    "    # Normalizes all given columns in a dataframe\n",
    "    for col in columns:\n",
    "        dataframe[col] = (dataframe[col] - dataframe[col].min()) / (dataframe[col].max() - dataframe[col].min())\n",
    "\n",
    "scale_df(data, sent_columns + happy_columns) # Normalize all relevant columns"
   ]
  },
  {
   "cell_type": "markdown",
   "metadata": {},
   "source": [
    "# Distribution of columns"
   ]
  },
  {
   "cell_type": "code",
   "execution_count": 9,
   "metadata": {},
   "outputs": [
    {
     "data": {
      "image/png": "[encoded data removed]",
      "text/plain": [
       "<Figure size 720x720 with 12 Axes>"
      ]
     },
     "metadata": {
      "needs_background": "light"
     },
     "output_type": "display_data"
    }
   ],
   "source": [
    "data.hist(figsize=(10, 10), bins=50, xlabelsize=8);"
   ]
  },
  {
   "cell_type": "code",
   "execution_count": 18,
   "metadata": {},
   "outputs": [
    {
     "data": {
      "image/png": "[encoded data removed]",
      "text/plain": [
       "<Figure size 432x288 with 1 Axes>"
      ]
     },
     "metadata": {
      "needs_background": "light"
     },
     "output_type": "display_data"
    },
    {
     "data": {
      "image/png": "[encoded data removed]",
      "text/plain": [
       "<Figure size 432x288 with 1 Axes>"
      ]
     },
     "metadata": {
      "needs_background": "light"
     },
     "output_type": "display_data"
    },
    {
     "name": "stdout",
     "output_type": "stream",
     "text": [
      "P-value is: 6.535155765260912e-29\n",
      "So the data does not follow a normal distribution.\n"
     ]
    }
   ],
   "source": [
    "def view_normal_distibution(dataframe, col_name, n_bins=50):\n",
    "    # Vizualises the normality of a given column. also performs a shapiro-wilk test\n",
    "    x = dataframe[col_name]\n",
    "    sns.distplot(x, bins=n_bins)\n",
    "    plt.ylabel('frequency')\n",
    "    plt.xlabel('col_name')\n",
    "    plt.title('distribution of ' + col_name)\n",
    "    plt.show()\n",
    "    \n",
    "    sm.qqplot(x, line ='q')\n",
    "    plt.title('qqplot of ' + col_name)\n",
    "    plt.show()\n",
    "    \n",
    "    p_value = stats.shapiro(x)[1]\n",
    "    print(\"P-value is: \" + str(p_value))\n",
    "    if p_value > 0.05:\n",
    "        print(\"So the data follow a normal distribution.\")\n",
    "    else:\n",
    "        print(\"So the data does not follow a normal distribution.\")\n",
    "    \n",
    "    \n",
    "    \n",
    "view_normal_distibution(data, 'Social support')"
   ]
  },
  {
   "cell_type": "markdown",
   "metadata": {},
   "source": [
    "TODO: Some columns dont follow the normal distribution. However i think we can make them fit a normal distribution using transforms"
   ]
  },
  {
   "cell_type": "markdown",
   "metadata": {},
   "source": [
    "# Correlation of columns"
   ]
  },
  {
   "cell_type": "code",
   "execution_count": null,
   "metadata": {},
   "outputs": [],
   "source": [
    "data_cor = data.corr()\n",
    "f, ax = plt.subplots(figsize=(10, 8))\n",
    "sns.heatmap(data_cor, cmap=sns.diverging_palette(220, 10, as_cmap=True),\n",
    "            square=True, ax=ax)\n",
    "plt.show()\n",
    "\n",
    "\n",
    "cor_sub = data_cor.drop(sent_columns)\n",
    "cor_sub = cor_sub.drop(happy_columns, axis=1)\n",
    "f, ax = plt.subplots(figsize=(10, 8))\n",
    "corr = cor_sub\n",
    "sns.heatmap(cor_sub, cmap=sns.diverging_palette(220, 10, as_cmap=True),\n",
    "            square=True, ax=ax)\n",
    "plt.show()"
   ]
  },
  {
   "cell_type": "markdown",
   "metadata": {},
   "source": [
    "# Exploring some of the relationships"
   ]
  },
  {
   "cell_type": "markdown",
   "metadata": {},
   "source": [
    "\"Life Ladder\" and \"Log GDP per capita\" both seem to have a relatively strong correlation with all the sentiment scores. Lets explore that some more"
   ]
  },
  {
   "cell_type": "code",
   "execution_count": null,
   "metadata": {},
   "outputs": [],
   "source": [
    "sns.set()\n",
    "cols = [\"neg\", \"neu\", \"pos\", \"Life Ladder\", \"Log GDP per capita\", \"Social support\"]\n",
    "t = sns.pairplot(data[cols], height = 2.5)"
   ]
  },
  {
   "cell_type": "markdown",
   "metadata": {},
   "source": [
    "Thats maybe a little on the large side. We dont really need to compare data within the datasets. Lets remove those:"
   ]
  },
  {
   "cell_type": "code",
   "execution_count": null,
   "metadata": {},
   "outputs": [],
   "source": [
    "sns.set()\n",
    "s = [\"neg\", \"neu\", \"pos\"]\n",
    "h = [\"Life Ladder\", \"Log GDP per capita\", \"Social support\"]\n",
    "t = sns.pairplot(data, x_vars=s, y_vars=h, height = 2.5)\n"
   ]
  },
  {
   "cell_type": "markdown",
   "metadata": {},
   "source": [
    "Well, that looks like a blob. Maybe the correlation is only due to the outliers?"
   ]
  },
  {
   "cell_type": "code",
   "execution_count": null,
   "metadata": {},
   "outputs": [],
   "source": []
  },
  {
   "cell_type": "code",
   "execution_count": null,
   "metadata": {},
   "outputs": [],
   "source": []
  },
  {
   "cell_type": "code",
   "execution_count": null,
   "metadata": {},
   "outputs": [],
   "source": []
  }
 ],
 "metadata": {
  "kernelspec": {
   "display_name": "Python 3",
   "language": "python",
   "name": "python3"
  },
  "language_info": {
   "codemirror_mode": {
    "name": "ipython",
    "version": 3
   },
   "file_extension": ".py",
   "mimetype": "text/x-python",
   "name": "python",
   "nbconvert_exporter": "python",
   "pygments_lexer": "ipython3",
   "version": "3.8.3"
  }
 },
 "nbformat": 4,
 "nbformat_minor": 4
}
