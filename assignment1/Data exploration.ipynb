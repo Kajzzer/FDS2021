{
 "cells": [
  {
   "cell_type": "code",
   "execution_count": 1,
   "metadata": {},
   "outputs": [],
   "source": [
    "import pandas as pd\n",
    "import matplotlib.pyplot as plt\n",
    "import numpy as np\n",
    "import seaborn as sns\n",
    "import statsmodels.api as sm\n",
    "from scipy import stats\n",
    "import textstat"
   ]
  },
  {
   "cell_type": "code",
   "execution_count": null,
   "metadata": {},
   "outputs": [],
   "source": []
  },
  {
   "cell_type": "code",
   "execution_count": null,
   "metadata": {},
   "outputs": [],
   "source": []
  },
  {
   "cell_type": "code",
   "execution_count": 2,
   "metadata": {},
   "outputs": [],
   "source": [
    "sns.set(style=\"white\", font_scale=1.25, palette=\"deep\")"
   ]
  },
  {
   "cell_type": "code",
   "execution_count": 3,
   "metadata": {},
   "outputs": [],
   "source": [
    "# Reading the combined data set\n",
    "sent_columns = ['neg', 'neu', 'pos'] #All columns related to sentiment of the speeches\n",
    "happy_columns = ['Life Ladder', 'Log GDP per capita', 'Social support', 'Healthy life expectancy at birth', 'Freedom to make life choices', 'Generosity', 'Perceptions of corruption', 'Positive affect', 'Negative affect'] # All columns related to the happiness dataset\n",
    "data = pd.read_csv(\"Data/full_dat.csv\", index_col=[0,1])"
   ]
  },
  {
   "cell_type": "code",
   "execution_count": 4,
   "metadata": {},
   "outputs": [
    {
     "data": {
      "text/html": [
       "<div>\n",
       "<style scoped>\n",
       "    .dataframe tbody tr th:only-of-type {\n",
       "        vertical-align: middle;\n",
       "    }\n",
       "\n",
       "    .dataframe tbody tr th {\n",
       "        vertical-align: top;\n",
       "    }\n",
       "\n",
       "    .dataframe thead th {\n",
       "        text-align: right;\n",
       "    }\n",
       "</style>\n",
       "<table border=\"1\" class=\"dataframe\">\n",
       "  <thead>\n",
       "    <tr style=\"text-align: right;\">\n",
       "      <th></th>\n",
       "      <th></th>\n",
       "      <th>iso3</th>\n",
       "      <th>ISO-alpha3 Code</th>\n",
       "      <th>Region Name</th>\n",
       "      <th>Sub-region Name</th>\n",
       "      <th>Developed / Developing Countries</th>\n",
       "      <th>Session</th>\n",
       "      <th>Speech</th>\n",
       "      <th>neg</th>\n",
       "      <th>neu</th>\n",
       "      <th>pos</th>\n",
       "      <th>Life Ladder</th>\n",
       "      <th>Log GDP per capita</th>\n",
       "      <th>Social support</th>\n",
       "      <th>Healthy life expectancy at birth</th>\n",
       "      <th>Freedom to make life choices</th>\n",
       "      <th>Generosity</th>\n",
       "      <th>Perceptions of corruption</th>\n",
       "      <th>Positive affect</th>\n",
       "      <th>Negative affect</th>\n",
       "    </tr>\n",
       "    <tr>\n",
       "      <th>Country</th>\n",
       "      <th>Year</th>\n",
       "      <th></th>\n",
       "      <th></th>\n",
       "      <th></th>\n",
       "      <th></th>\n",
       "      <th></th>\n",
       "      <th></th>\n",
       "      <th></th>\n",
       "      <th></th>\n",
       "      <th></th>\n",
       "      <th></th>\n",
       "      <th></th>\n",
       "      <th></th>\n",
       "      <th></th>\n",
       "      <th></th>\n",
       "      <th></th>\n",
       "      <th></th>\n",
       "      <th></th>\n",
       "      <th></th>\n",
       "      <th></th>\n",
       "    </tr>\n",
       "  </thead>\n",
       "  <tbody>\n",
       "    <tr>\n",
       "      <th rowspan=\"5\" valign=\"top\">Austria</th>\n",
       "      <th>2006</th>\n",
       "      <td>AUT</td>\n",
       "      <td>AUT</td>\n",
       "      <td>Europe</td>\n",
       "      <td>Western Europe</td>\n",
       "      <td>Developed</td>\n",
       "      <td>61</td>\n",
       "      <td>“United in diversity”: \\nthis motto of the Eur...</td>\n",
       "      <td>0.074</td>\n",
       "      <td>0.743</td>\n",
       "      <td>0.183</td>\n",
       "      <td>7.122211</td>\n",
       "      <td>10.841940</td>\n",
       "      <td>0.936350</td>\n",
       "      <td>70.760002</td>\n",
       "      <td>0.941382</td>\n",
       "      <td>0.302386</td>\n",
       "      <td>0.490111</td>\n",
       "      <td>0.823105</td>\n",
       "      <td>0.173812</td>\n",
       "    </tr>\n",
       "    <tr>\n",
       "      <th>2008</th>\n",
       "      <td>AUT</td>\n",
       "      <td>AUT</td>\n",
       "      <td>Europe</td>\n",
       "      <td>Western Europe</td>\n",
       "      <td>Developed</td>\n",
       "      <td>63</td>\n",
       "      <td>These days, on our \\ntelevision screens, image...</td>\n",
       "      <td>0.078</td>\n",
       "      <td>0.683</td>\n",
       "      <td>0.239</td>\n",
       "      <td>7.180954</td>\n",
       "      <td>10.886662</td>\n",
       "      <td>0.934593</td>\n",
       "      <td>71.080002</td>\n",
       "      <td>0.879069</td>\n",
       "      <td>0.291309</td>\n",
       "      <td>0.613625</td>\n",
       "      <td>0.832170</td>\n",
       "      <td>0.173195</td>\n",
       "    </tr>\n",
       "    <tr>\n",
       "      <th>2010</th>\n",
       "      <td>AUT</td>\n",
       "      <td>AUT</td>\n",
       "      <td>Europe</td>\n",
       "      <td>Western Europe</td>\n",
       "      <td>Developed</td>\n",
       "      <td>65</td>\n",
       "      <td>The tragic \\nearthquake in Haiti, the devastat...</td>\n",
       "      <td>0.060</td>\n",
       "      <td>0.698</td>\n",
       "      <td>0.242</td>\n",
       "      <td>7.302679</td>\n",
       "      <td>10.861471</td>\n",
       "      <td>0.914193</td>\n",
       "      <td>71.400002</td>\n",
       "      <td>0.895980</td>\n",
       "      <td>0.130891</td>\n",
       "      <td>0.546145</td>\n",
       "      <td>0.814719</td>\n",
       "      <td>0.155793</td>\n",
       "    </tr>\n",
       "    <tr>\n",
       "      <th>2011</th>\n",
       "      <td>AUT</td>\n",
       "      <td>AUT</td>\n",
       "      <td>Europe</td>\n",
       "      <td>Western Europe</td>\n",
       "      <td>Developed</td>\n",
       "      <td>66</td>\n",
       "      <td>This year has once \\nagain confirmed the impor...</td>\n",
       "      <td>0.063</td>\n",
       "      <td>0.723</td>\n",
       "      <td>0.214</td>\n",
       "      <td>7.470513</td>\n",
       "      <td>10.886909</td>\n",
       "      <td>0.944157</td>\n",
       "      <td>71.540001</td>\n",
       "      <td>0.939356</td>\n",
       "      <td>0.131578</td>\n",
       "      <td>0.702721</td>\n",
       "      <td>0.789471</td>\n",
       "      <td>0.145238</td>\n",
       "    </tr>\n",
       "    <tr>\n",
       "      <th>2012</th>\n",
       "      <td>AUT</td>\n",
       "      <td>AUT</td>\n",
       "      <td>Europe</td>\n",
       "      <td>Western Europe</td>\n",
       "      <td>Developed</td>\n",
       "      <td>67</td>\n",
       "      <td>The events of recent\\nmonths have illustrated ...</td>\n",
       "      <td>0.094</td>\n",
       "      <td>0.693</td>\n",
       "      <td>0.213</td>\n",
       "      <td>7.400689</td>\n",
       "      <td>10.889132</td>\n",
       "      <td>0.945142</td>\n",
       "      <td>71.680000</td>\n",
       "      <td>0.919704</td>\n",
       "      <td>0.117804</td>\n",
       "      <td>0.770586</td>\n",
       "      <td>0.822248</td>\n",
       "      <td>0.156675</td>\n",
       "    </tr>\n",
       "  </tbody>\n",
       "</table>\n",
       "</div>"
      ],
      "text/plain": [
       "             iso3 ISO-alpha3 Code Region Name Sub-region Name  \\\n",
       "Country Year                                                    \n",
       "Austria 2006  AUT             AUT      Europe  Western Europe   \n",
       "        2008  AUT             AUT      Europe  Western Europe   \n",
       "        2010  AUT             AUT      Europe  Western Europe   \n",
       "        2011  AUT             AUT      Europe  Western Europe   \n",
       "        2012  AUT             AUT      Europe  Western Europe   \n",
       "\n",
       "             Developed / Developing Countries  Session  \\\n",
       "Country Year                                             \n",
       "Austria 2006                        Developed       61   \n",
       "        2008                        Developed       63   \n",
       "        2010                        Developed       65   \n",
       "        2011                        Developed       66   \n",
       "        2012                        Developed       67   \n",
       "\n",
       "                                                         Speech    neg    neu  \\\n",
       "Country Year                                                                    \n",
       "Austria 2006  “United in diversity”: \\nthis motto of the Eur...  0.074  0.743   \n",
       "        2008  These days, on our \\ntelevision screens, image...  0.078  0.683   \n",
       "        2010  The tragic \\nearthquake in Haiti, the devastat...  0.060  0.698   \n",
       "        2011  This year has once \\nagain confirmed the impor...  0.063  0.723   \n",
       "        2012  The events of recent\\nmonths have illustrated ...  0.094  0.693   \n",
       "\n",
       "                pos  Life Ladder  Log GDP per capita  Social support  \\\n",
       "Country Year                                                           \n",
       "Austria 2006  0.183     7.122211           10.841940        0.936350   \n",
       "        2008  0.239     7.180954           10.886662        0.934593   \n",
       "        2010  0.242     7.302679           10.861471        0.914193   \n",
       "        2011  0.214     7.470513           10.886909        0.944157   \n",
       "        2012  0.213     7.400689           10.889132        0.945142   \n",
       "\n",
       "              Healthy life expectancy at birth  Freedom to make life choices  \\\n",
       "Country Year                                                                   \n",
       "Austria 2006                         70.760002                      0.941382   \n",
       "        2008                         71.080002                      0.879069   \n",
       "        2010                         71.400002                      0.895980   \n",
       "        2011                         71.540001                      0.939356   \n",
       "        2012                         71.680000                      0.919704   \n",
       "\n",
       "              Generosity  Perceptions of corruption  Positive affect  \\\n",
       "Country Year                                                           \n",
       "Austria 2006    0.302386                   0.490111         0.823105   \n",
       "        2008    0.291309                   0.613625         0.832170   \n",
       "        2010    0.130891                   0.546145         0.814719   \n",
       "        2011    0.131578                   0.702721         0.789471   \n",
       "        2012    0.117804                   0.770586         0.822248   \n",
       "\n",
       "              Negative affect  \n",
       "Country Year                   \n",
       "Austria 2006         0.173812  \n",
       "        2008         0.173195  \n",
       "        2010         0.155793  \n",
       "        2011         0.145238  \n",
       "        2012         0.156675  "
      ]
     },
     "execution_count": 4,
     "metadata": {},
     "output_type": "execute_result"
    }
   ],
   "source": [
    "data.head()"
   ]
  },
  {
   "cell_type": "code",
   "execution_count": 5,
   "metadata": {},
   "outputs": [],
   "source": [
    "# speeches = data[\"Speech\"]\n",
    "\n",
    "# data['readability'] = [textstat.dale_chall_readability_score(speech) for speech in speeches]\n",
    "# data['readability']"
   ]
  },
  {
   "cell_type": "code",
   "execution_count": null,
   "metadata": {},
   "outputs": [],
   "source": []
  },
  {
   "cell_type": "code",
   "execution_count": null,
   "metadata": {},
   "outputs": [],
   "source": []
  },
  {
   "cell_type": "code",
   "execution_count": null,
   "metadata": {},
   "outputs": [],
   "source": []
  },
  {
   "cell_type": "code",
   "execution_count": 6,
   "metadata": {},
   "outputs": [],
   "source": [
    "data = data[sent_columns + happy_columns]"
   ]
  },
  {
   "cell_type": "markdown",
   "metadata": {},
   "source": [
    "# Column information"
   ]
  },
  {
   "cell_type": "markdown",
   "metadata": {},
   "source": [
    "Basic info about the data"
   ]
  },
  {
   "cell_type": "code",
   "execution_count": 7,
   "metadata": {},
   "outputs": [
    {
     "name": "stdout",
     "output_type": "stream",
     "text": [
      "<class 'pandas.core.frame.DataFrame'>\n",
      "MultiIndex: 1664 entries, ('Austria', 2006) to ('South Sudan', 2017)\n",
      "Data columns (total 12 columns):\n",
      " #   Column                            Non-Null Count  Dtype  \n",
      "---  ------                            --------------  -----  \n",
      " 0   neg                               1664 non-null   float64\n",
      " 1   neu                               1664 non-null   float64\n",
      " 2   pos                               1664 non-null   float64\n",
      " 3   Life Ladder                       1664 non-null   float64\n",
      " 4   Log GDP per capita                1652 non-null   float64\n",
      " 5   Social support                    1654 non-null   float64\n",
      " 6   Healthy life expectancy at birth  1664 non-null   float64\n",
      " 7   Freedom to make life choices      1639 non-null   float64\n",
      " 8   Generosity                        1609 non-null   float64\n",
      " 9   Perceptions of corruption         1565 non-null   float64\n",
      " 10  Positive affect                   1645 non-null   float64\n",
      " 11  Negative affect                   1650 non-null   float64\n",
      "dtypes: float64(12)\n",
      "memory usage: 166.8+ KB\n"
     ]
    }
   ],
   "source": [
    "info = data.info()"
   ]
  },
  {
   "cell_type": "markdown",
   "metadata": {},
   "source": [
    "More numeric info about each column"
   ]
  },
  {
   "cell_type": "code",
   "execution_count": 8,
   "metadata": {
    "scrolled": false
   },
   "outputs": [
    {
     "data": {
      "text/html": [
       "<div>\n",
       "<style scoped>\n",
       "    .dataframe tbody tr th:only-of-type {\n",
       "        vertical-align: middle;\n",
       "    }\n",
       "\n",
       "    .dataframe tbody tr th {\n",
       "        vertical-align: top;\n",
       "    }\n",
       "\n",
       "    .dataframe thead th {\n",
       "        text-align: right;\n",
       "    }\n",
       "</style>\n",
       "<table border=\"1\" class=\"dataframe\">\n",
       "  <thead>\n",
       "    <tr style=\"text-align: right;\">\n",
       "      <th></th>\n",
       "      <th>neg</th>\n",
       "      <th>neu</th>\n",
       "      <th>pos</th>\n",
       "      <th>Life Ladder</th>\n",
       "      <th>Log GDP per capita</th>\n",
       "      <th>Social support</th>\n",
       "      <th>Healthy life expectancy at birth</th>\n",
       "      <th>Freedom to make life choices</th>\n",
       "      <th>Generosity</th>\n",
       "      <th>Perceptions of corruption</th>\n",
       "      <th>Positive affect</th>\n",
       "      <th>Negative affect</th>\n",
       "    </tr>\n",
       "  </thead>\n",
       "  <tbody>\n",
       "    <tr>\n",
       "      <th>count</th>\n",
       "      <td>1664.000000</td>\n",
       "      <td>1664.000000</td>\n",
       "      <td>1664.000000</td>\n",
       "      <td>1664.000000</td>\n",
       "      <td>1652.000000</td>\n",
       "      <td>1654.000000</td>\n",
       "      <td>1664.000000</td>\n",
       "      <td>1639.000000</td>\n",
       "      <td>1609.000000</td>\n",
       "      <td>1565.000000</td>\n",
       "      <td>1645.000000</td>\n",
       "      <td>1650.000000</td>\n",
       "    </tr>\n",
       "    <tr>\n",
       "      <th>mean</th>\n",
       "      <td>0.080663</td>\n",
       "      <td>0.740073</td>\n",
       "      <td>0.179239</td>\n",
       "      <td>5.460666</td>\n",
       "      <td>9.361959</td>\n",
       "      <td>0.812139</td>\n",
       "      <td>63.423119</td>\n",
       "      <td>0.745001</td>\n",
       "      <td>-0.002921</td>\n",
       "      <td>0.746757</td>\n",
       "      <td>0.711446</td>\n",
       "      <td>0.268695</td>\n",
       "    </tr>\n",
       "    <tr>\n",
       "      <th>std</th>\n",
       "      <td>0.030034</td>\n",
       "      <td>0.038727</td>\n",
       "      <td>0.032635</td>\n",
       "      <td>1.135965</td>\n",
       "      <td>1.159358</td>\n",
       "      <td>0.121807</td>\n",
       "      <td>7.596992</td>\n",
       "      <td>0.144166</td>\n",
       "      <td>0.160917</td>\n",
       "      <td>0.190924</td>\n",
       "      <td>0.108065</td>\n",
       "      <td>0.081285</td>\n",
       "    </tr>\n",
       "    <tr>\n",
       "      <th>min</th>\n",
       "      <td>0.011000</td>\n",
       "      <td>0.599000</td>\n",
       "      <td>0.073000</td>\n",
       "      <td>2.375092</td>\n",
       "      <td>6.635322</td>\n",
       "      <td>0.290184</td>\n",
       "      <td>32.299999</td>\n",
       "      <td>0.257534</td>\n",
       "      <td>-0.335040</td>\n",
       "      <td>0.035198</td>\n",
       "      <td>0.321690</td>\n",
       "      <td>0.095490</td>\n",
       "    </tr>\n",
       "    <tr>\n",
       "      <th>25%</th>\n",
       "      <td>0.059000</td>\n",
       "      <td>0.714750</td>\n",
       "      <td>0.157750</td>\n",
       "      <td>4.610970</td>\n",
       "      <td>8.449862</td>\n",
       "      <td>0.746523</td>\n",
       "      <td>58.670000</td>\n",
       "      <td>0.650378</td>\n",
       "      <td>-0.118097</td>\n",
       "      <td>0.692892</td>\n",
       "      <td>0.627798</td>\n",
       "      <td>0.207799</td>\n",
       "    </tr>\n",
       "    <tr>\n",
       "      <th>50%</th>\n",
       "      <td>0.078000</td>\n",
       "      <td>0.741000</td>\n",
       "      <td>0.180000</td>\n",
       "      <td>5.354053</td>\n",
       "      <td>9.483177</td>\n",
       "      <td>0.839411</td>\n",
       "      <td>65.300003</td>\n",
       "      <td>0.766716</td>\n",
       "      <td>-0.024666</td>\n",
       "      <td>0.804879</td>\n",
       "      <td>0.725461</td>\n",
       "      <td>0.260161</td>\n",
       "    </tr>\n",
       "    <tr>\n",
       "      <th>75%</th>\n",
       "      <td>0.098000</td>\n",
       "      <td>0.766000</td>\n",
       "      <td>0.200000</td>\n",
       "      <td>6.294377</td>\n",
       "      <td>10.310630</td>\n",
       "      <td>0.908301</td>\n",
       "      <td>68.704998</td>\n",
       "      <td>0.861427</td>\n",
       "      <td>0.084854</td>\n",
       "      <td>0.874849</td>\n",
       "      <td>0.802440</td>\n",
       "      <td>0.319142</td>\n",
       "    </tr>\n",
       "    <tr>\n",
       "      <th>max</th>\n",
       "      <td>0.268000</td>\n",
       "      <td>0.880000</td>\n",
       "      <td>0.294000</td>\n",
       "      <td>8.018934</td>\n",
       "      <td>11.648169</td>\n",
       "      <td>0.987343</td>\n",
       "      <td>77.099998</td>\n",
       "      <td>0.985178</td>\n",
       "      <td>0.698099</td>\n",
       "      <td>0.983276</td>\n",
       "      <td>0.943621</td>\n",
       "      <td>0.599335</td>\n",
       "    </tr>\n",
       "  </tbody>\n",
       "</table>\n",
       "</div>"
      ],
      "text/plain": [
       "               neg          neu          pos  Life Ladder  Log GDP per capita  \\\n",
       "count  1664.000000  1664.000000  1664.000000  1664.000000         1652.000000   \n",
       "mean      0.080663     0.740073     0.179239     5.460666            9.361959   \n",
       "std       0.030034     0.038727     0.032635     1.135965            1.159358   \n",
       "min       0.011000     0.599000     0.073000     2.375092            6.635322   \n",
       "25%       0.059000     0.714750     0.157750     4.610970            8.449862   \n",
       "50%       0.078000     0.741000     0.180000     5.354053            9.483177   \n",
       "75%       0.098000     0.766000     0.200000     6.294377           10.310630   \n",
       "max       0.268000     0.880000     0.294000     8.018934           11.648169   \n",
       "\n",
       "       Social support  Healthy life expectancy at birth  \\\n",
       "count     1654.000000                       1664.000000   \n",
       "mean         0.812139                         63.423119   \n",
       "std          0.121807                          7.596992   \n",
       "min          0.290184                         32.299999   \n",
       "25%          0.746523                         58.670000   \n",
       "50%          0.839411                         65.300003   \n",
       "75%          0.908301                         68.704998   \n",
       "max          0.987343                         77.099998   \n",
       "\n",
       "       Freedom to make life choices   Generosity  Perceptions of corruption  \\\n",
       "count                   1639.000000  1609.000000                1565.000000   \n",
       "mean                       0.745001    -0.002921                   0.746757   \n",
       "std                        0.144166     0.160917                   0.190924   \n",
       "min                        0.257534    -0.335040                   0.035198   \n",
       "25%                        0.650378    -0.118097                   0.692892   \n",
       "50%                        0.766716    -0.024666                   0.804879   \n",
       "75%                        0.861427     0.084854                   0.874849   \n",
       "max                        0.985178     0.698099                   0.983276   \n",
       "\n",
       "       Positive affect  Negative affect  \n",
       "count      1645.000000      1650.000000  \n",
       "mean          0.711446         0.268695  \n",
       "std           0.108065         0.081285  \n",
       "min           0.321690         0.095490  \n",
       "25%           0.627798         0.207799  \n",
       "50%           0.725461         0.260161  \n",
       "75%           0.802440         0.319142  \n",
       "max           0.943621         0.599335  "
      ]
     },
     "execution_count": 8,
     "metadata": {},
     "output_type": "execute_result"
    }
   ],
   "source": [
    "f = open(\"Tables/info.txt\", \"a\")\n",
    "# data.describe().round(decimals=2).to_latex()\n",
    "f.write(data.describe().round(decimals=2).to_latex())\n",
    "f.close()\n",
    "data.describe()"
   ]
  },
  {
   "cell_type": "code",
   "execution_count": null,
   "metadata": {
    "scrolled": true
   },
   "outputs": [],
   "source": []
  },
  {
   "cell_type": "markdown",
   "metadata": {},
   "source": [
    "# Cleaning data"
   ]
  },
  {
   "cell_type": "code",
   "execution_count": 9,
   "metadata": {},
   "outputs": [
    {
     "data": {
      "text/html": [
       "<div>\n",
       "<style scoped>\n",
       "    .dataframe tbody tr th:only-of-type {\n",
       "        vertical-align: middle;\n",
       "    }\n",
       "\n",
       "    .dataframe tbody tr th {\n",
       "        vertical-align: top;\n",
       "    }\n",
       "\n",
       "    .dataframe thead th {\n",
       "        text-align: right;\n",
       "    }\n",
       "</style>\n",
       "<table border=\"1\" class=\"dataframe\">\n",
       "  <thead>\n",
       "    <tr style=\"text-align: right;\">\n",
       "      <th></th>\n",
       "      <th>Total missing</th>\n",
       "      <th>Percent missing</th>\n",
       "    </tr>\n",
       "  </thead>\n",
       "  <tbody>\n",
       "    <tr>\n",
       "      <th>Perceptions of corruption</th>\n",
       "      <td>99</td>\n",
       "      <td>0.059</td>\n",
       "    </tr>\n",
       "    <tr>\n",
       "      <th>Generosity</th>\n",
       "      <td>55</td>\n",
       "      <td>0.033</td>\n",
       "    </tr>\n",
       "    <tr>\n",
       "      <th>Freedom to make life choices</th>\n",
       "      <td>25</td>\n",
       "      <td>0.015</td>\n",
       "    </tr>\n",
       "    <tr>\n",
       "      <th>Positive affect</th>\n",
       "      <td>19</td>\n",
       "      <td>0.011</td>\n",
       "    </tr>\n",
       "    <tr>\n",
       "      <th>Negative affect</th>\n",
       "      <td>14</td>\n",
       "      <td>0.008</td>\n",
       "    </tr>\n",
       "    <tr>\n",
       "      <th>Log GDP per capita</th>\n",
       "      <td>12</td>\n",
       "      <td>0.007</td>\n",
       "    </tr>\n",
       "    <tr>\n",
       "      <th>Social support</th>\n",
       "      <td>10</td>\n",
       "      <td>0.006</td>\n",
       "    </tr>\n",
       "    <tr>\n",
       "      <th>neg</th>\n",
       "      <td>0</td>\n",
       "      <td>0.000</td>\n",
       "    </tr>\n",
       "    <tr>\n",
       "      <th>neu</th>\n",
       "      <td>0</td>\n",
       "      <td>0.000</td>\n",
       "    </tr>\n",
       "    <tr>\n",
       "      <th>pos</th>\n",
       "      <td>0</td>\n",
       "      <td>0.000</td>\n",
       "    </tr>\n",
       "    <tr>\n",
       "      <th>Life Ladder</th>\n",
       "      <td>0</td>\n",
       "      <td>0.000</td>\n",
       "    </tr>\n",
       "    <tr>\n",
       "      <th>Healthy life expectancy at birth</th>\n",
       "      <td>0</td>\n",
       "      <td>0.000</td>\n",
       "    </tr>\n",
       "  </tbody>\n",
       "</table>\n",
       "</div>"
      ],
      "text/plain": [
       "                                  Total missing  Percent missing\n",
       "Perceptions of corruption                    99            0.059\n",
       "Generosity                                   55            0.033\n",
       "Freedom to make life choices                 25            0.015\n",
       "Positive affect                              19            0.011\n",
       "Negative affect                              14            0.008\n",
       "Log GDP per capita                           12            0.007\n",
       "Social support                               10            0.006\n",
       "neg                                           0            0.000\n",
       "neu                                           0            0.000\n",
       "pos                                           0            0.000\n",
       "Life Ladder                                   0            0.000\n",
       "Healthy life expectancy at birth              0            0.000"
      ]
     },
     "execution_count": 9,
     "metadata": {},
     "output_type": "execute_result"
    }
   ],
   "source": [
    "nans = data.isnull().sum().sort_values(ascending=False)\n",
    "relative = nans/data.shape[0]\n",
    "missing_data = pd.concat([nans, relative], axis=1, keys=['Total missing', 'Percent missing'])\n",
    "f = open(\"Tables/missing_data.txt\", \"a\")\n",
    "f.write(missing_data.round(decimals=3).to_latex())\n",
    "f.close()\n",
    "missing_data.round(decimals=3)"
   ]
  },
  {
   "cell_type": "markdown",
   "metadata": {},
   "source": [
    "The amount of missing data is fairly low. So we can allow ourselves to just remove all rows containing missing data."
   ]
  },
  {
   "cell_type": "code",
   "execution_count": 10,
   "metadata": {},
   "outputs": [],
   "source": [
    "data.dropna(inplace=True) # Dropp all rows containing missing data"
   ]
  },
  {
   "cell_type": "markdown",
   "metadata": {},
   "source": [
    "# Normalizing the data"
   ]
  },
  {
   "cell_type": "code",
   "execution_count": 11,
   "metadata": {},
   "outputs": [],
   "source": [
    "def scale_df(dataframe, columns):\n",
    "    # Normalizes all given columns in a dataframe\n",
    "    for col in columns:\n",
    "        dataframe[col] = (dataframe[col] - dataframe[col].min()) / (dataframe[col].max() - dataframe[col].min())\n",
    "\n",
    "scale_df(data, sent_columns + happy_columns) # Normalize all relevant columns"
   ]
  },
  {
   "cell_type": "markdown",
   "metadata": {},
   "source": [
    "# Distribution of columns"
   ]
  },
  {
   "cell_type": "code",
   "execution_count": 12,
   "metadata": {},
   "outputs": [
    {
     "data": {
      "image/png": "[encoded data removed]",
      "text/plain": [
       "<Figure size 720x720 with 12 Axes>"
      ]
     },
     "metadata": {},
     "output_type": "display_data"
    }
   ],
   "source": [
    "data.hist(figsize=(10, 10), bins=50, xlabelsize=8);\n",
    "plt.savefig('Images/distribution_data.png')"
   ]
  },
  {
   "cell_type": "code",
   "execution_count": 19,
   "metadata": {},
   "outputs": [
    {
     "name": "stdout",
     "output_type": "stream",
     "text": [
      "P-value is: 6.535155765260912e-29\n",
      "So the data does not follow a normal distribution.\n"
     ]
    },
    {
     "data": {
      "image/png": "[encoded data removed]",
      "text/plain": [
       "<Figure size 432x288 with 1 Axes>"
      ]
     },
     "metadata": {},
     "output_type": "display_data"
    },
    {
     "data": {
      "image/png": "[encoded data removed]",
      "text/plain": [
       "<Figure size 432x288 with 1 Axes>"
      ]
     },
     "metadata": {},
     "output_type": "display_data"
    }
   ],
   "source": [
    "def view_normal_distibution(dataframe, col_name, n_bins=50):\n",
    "    # Vizualises the normality of a given column. also performs a shapiro-wilk test\n",
    "    x = dataframe[col_name]\n",
    "    sns.histplot(x, bins=n_bins, kde=True, stat=\"frequency\", linewidth=0)\n",
    "    plt.ylabel('frequency')\n",
    "    plt.xlabel(col_name)\n",
    "    plt.title('distribution of ' + col_name)\n",
    "    plt.savefig('Images/distribution' + col_name +'.png')\n",
    "    \n",
    "    sm.qqplot(x, line ='q')\n",
    "    plt.title('qqplot of ' + col_name)\n",
    "    plt.savefig('Images/qq_plot' + col_name +'.png')\n",
    "    \n",
    "    p_value = stats.shapiro(x)[1]\n",
    "    print(\"P-value is: \" + str(p_value))\n",
    "    if p_value > 0.05:\n",
    "        print(\"So the data follow a normal distribution.\")\n",
    "    else:\n",
    "        print(\"So the data does not follow a normal distribution.\")\n",
    "    \n",
    "cols = [\"neg\", \"neu\", \"pos\", \"Life Ladder\", \"Log GDP per capita\", \"Social support\"]\n",
    "\n",
    "# for c in cols:\n",
    "#     view_normal_distibution(data, c)\n",
    "view_normal_distibution(data, 'Social support')"
   ]
  },
  {
   "cell_type": "markdown",
   "metadata": {},
   "source": [
    "TODO: Some columns dont follow the normal distribution. However i think we can make them fit a normal distribution using transforms\n",
    "\n",
    "\"Neg\" is positively skewed and can be transformed using sqrt(x)"
   ]
  },
  {
   "cell_type": "code",
   "execution_count": null,
   "metadata": {},
   "outputs": [],
   "source": [
    "data['neg'] = np.sqrt(data['neg'])"
   ]
  },
  {
   "cell_type": "markdown",
   "metadata": {},
   "source": [
    "# Correlation of columns"
   ]
  },
  {
   "cell_type": "code",
   "execution_count": null,
   "metadata": {},
   "outputs": [],
   "source": [
    "data_cor = data.corr()\n",
    "f, ax = plt.subplots(figsize=(10, 8))\n",
    "sns.heatmap(data_cor, cmap=sns.diverging_palette(220, 10, as_cmap=True),\n",
    "            square=True, ax=ax)\n",
    "plt.savefig('Images/correlation_heatmap.png')\n",
    "\n",
    "\n",
    "cor_sub = data_cor.drop(sent_columns)\n",
    "cor_sub = cor_sub.drop(happy_columns, axis=1)\n",
    "f, ax = plt.subplots(figsize=(10, 8))\n",
    "corr = cor_sub\n",
    "sns.heatmap(cor_sub, cmap=sns.diverging_palette(220, 10, as_cmap=True),\n",
    "            square=True, ax=ax)\n",
    "plt.savefig('Images/correlation_heatmap_small.png')"
   ]
  },
  {
   "cell_type": "markdown",
   "metadata": {},
   "source": [
    "# Exploring some of the relationships"
   ]
  },
  {
   "cell_type": "markdown",
   "metadata": {},
   "source": [
    "\"Life Ladder\" and \"Log GDP per capita\" both seem to have a relatively strong correlation with all the sentiment scores. Lets explore that some more"
   ]
  },
  {
   "cell_type": "code",
   "execution_count": null,
   "metadata": {
    "scrolled": true
   },
   "outputs": [],
   "source": [
    "\n",
    "cols = [\"neg\", \"neu\", \"pos\", \"Life Ladder\", \"Log GDP per capita\", \"Social support\"]\n",
    "t = sns.pairplot(data[cols], height = 2.5)\n",
    "plt.savefig('Images/relationships_between_data.png')"
   ]
  },
  {
   "cell_type": "markdown",
   "metadata": {},
   "source": [
    "Thats maybe a little on the large side. We dont really need to compare data within the datasets. Lets remove those:"
   ]
  },
  {
   "cell_type": "code",
   "execution_count": null,
   "metadata": {},
   "outputs": [],
   "source": [
    "\n",
    "s = [\"neg\", \"neu\", \"pos\"]\n",
    "h = [\"Life Ladder\", \"Log GDP per capita\", \"Social support\"]\n",
    "t = sns.pairplot(data, x_vars=s, y_vars=h, height=5)\n",
    "plt.savefig('Images/more_relationships_between_data.png')"
   ]
  },
  {
   "cell_type": "markdown",
   "metadata": {},
   "source": [
    "Well, that looks like a blob. Maybe the correlation is only due to the outliers?"
   ]
  },
  {
   "cell_type": "code",
   "execution_count": null,
   "metadata": {},
   "outputs": [],
   "source": []
  },
  {
   "cell_type": "code",
   "execution_count": null,
   "metadata": {},
   "outputs": [],
   "source": []
  },
  {
   "cell_type": "code",
   "execution_count": null,
   "metadata": {},
   "outputs": [],
   "source": []
  }
 ],
 "metadata": {
  "kernelspec": {
   "display_name": "Python 3",
   "language": "python",
   "name": "python3"
  },
  "language_info": {
   "codemirror_mode": {
    "name": "ipython",
    "version": 3
   },
   "file_extension": ".py",
   "mimetype": "text/x-python",
   "name": "python",
   "nbconvert_exporter": "python",
   "pygments_lexer": "ipython3",
   "version": "3.8.3"
  }
 },
 "nbformat": 4,
 "nbformat_minor": 4
}
