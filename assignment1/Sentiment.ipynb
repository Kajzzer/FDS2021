{
 "cells": [
  {
   "cell_type": "code",
   "execution_count": 1,
   "id": "df54dba1",
   "metadata": {},
   "outputs": [],
   "source": [
    "# jupyter notebook --NotebookApp.allow_origin='https://colab.research.google.com' --port=8888 --NotebookApp.port_retries=0\n",
    "\n",
    "import numpy as np\n",
    "import pandas as pd\n",
    "from os import walk\n",
    "import os\n",
    "#from google.colab import drive\n",
    "\n",
    "from PIL import Image\n",
    "from wordcloud import WordCloud, STOPWORDS, ImageColorGenerator\n",
    "\n",
    "import matplotlib.pyplot as plt\n",
    "\n",
    "#NLP stuff\n",
    "import string\n",
    "import nltk\n",
    "from nltk.tokenize import sent_tokenize, word_tokenize\n",
    "from nltk.stem import WordNetLemmatizer\n",
    "from nltk.stem.snowball import SnowballStemmer\n",
    "from nltk.stem.porter import *"
   ]
  },
  {
   "cell_type": "code",
   "execution_count": 2,
   "id": "139a3aec",
   "metadata": {},
   "outputs": [],
   "source": [
    "df = pd.read_csv('raw_data.csv').set_index(['Year', 'ISO-alpha3 Code'])"
   ]
  },
  {
   "cell_type": "code",
   "execution_count": 65,
   "id": "796767a1",
   "metadata": {},
   "outputs": [],
   "source": [
    "def remove_punctuation(text):\n",
    "    return [word.translate(string.punctuation) for word in text]\n",
    "\n",
    "def remove_stopwords(text):\n",
    "    nltk_stop_words = nltk.corpus.stopwords.words('english')\n",
    "    return [word for word in text if word not in nltk_stop_words]\n",
    "\n",
    "def remove_nonalpha(text):\n",
    "    return [word for word in text if word.isalpha()]\n",
    "\n",
    "def lemmitization(text):\n",
    "    \n",
    "    # use the wordnet lemmatizer\n",
    "    wordnet_lemmatizer = WordNetLemmatizer()\n",
    "    \n",
    "    #\n",
    "    nltk_lemmaList = []\n",
    "    for word in text:\n",
    "        nltk_lemmaList.append(wordnet_lemmatizer.lemmatize(word))\n",
    "    return nltk_lemmaList"
   ]
  },
  {
   "cell_type": "code",
   "execution_count": 66,
   "id": "9705ea4e",
   "metadata": {},
   "outputs": [],
   "source": [
    "def preprocess_data(data, preprocess_functions):\n",
    "    \"Performs given preprocessing functions on all text in a given dataframe\"\n",
    "    \n",
    "    # the initial list to store the processed speeches in\n",
    "    processed = []\n",
    "    \n",
    "    # iterate over all indices of the given dataframe\n",
    "    for index in data.index:\n",
    "        \n",
    "        # get the speech of this index and make it all lower case\n",
    "        speech = data['Speech'][index].lower()\n",
    "        \n",
    "        # skip this speech if it's not a string value\n",
    "        if not isinstance(speech, str):\n",
    "            continue\n",
    "        \n",
    "        # remove the \\t and \\n from the speech\n",
    "        speech = speech.replace(\"\\t\", \" \").replace(\"\\n\", \" \")\n",
    "        \n",
    "        # tokenize the speech\n",
    "        tokens = word_tokenize(speech)\n",
    "        \n",
    "        # move the tokenized text through the given preprocessing functions\n",
    "        for function in preprocess_functions:\n",
    "            tokens = function(tokens)\n",
    "            \n",
    "        # create a single string from the preprocessed tokens\n",
    "        processed_speech = \" \".join(tokens)\n",
    "        \n",
    "        # deconstruct the index\n",
    "        [year, code] = index\n",
    "        \n",
    "        # add the index and processed speech to this row\n",
    "        processed.append([year, code, processed_speech])\n",
    "        \n",
    "    # convert the preprocessed speeches to a dataframe with the ['Year', 'ISO-aplha3 Code'] index\n",
    "    return pd.DataFrame(processed, columns=['Year', 'ISO-alpha3 Code', 'Speech']).set_index(['Year', 'ISO-alpha3 Code'])\n"
   ]
  },
  {
   "cell_type": "code",
   "execution_count": 68,
   "id": "88307b34",
   "metadata": {},
   "outputs": [],
   "source": [
    "preprocessed_df = preprocess_data(df, [remove_punctuation, remove_stopwords, remove_nonalpha, lemmitization])"
   ]
  },
  {
   "cell_type": "code",
   "execution_count": 69,
   "id": "d607169e",
   "metadata": {},
   "outputs": [],
   "source": [
    "from nltk.sentiment import SentimentIntensityAnalyzer\n",
    "\n",
    "def sentiment(df):\n",
    "    \n",
    "    # the sentiment analyzer we're going to use\n",
    "    sia = SentimentIntensityAnalyzer()\n",
    "\n",
    "    # the initial list to store the sentiment values in\n",
    "    sentiments = []\n",
    "\n",
    "    # iterate over all indices of the given dataframe\n",
    "    for index in df.index:\n",
    "\n",
    "        # deconstruct the current index\n",
    "        [year, code] = index\n",
    "\n",
    "        # get the polarity/sentiment score of the speech\n",
    "        scores = sia.polarity_scores(df.loc(axis=0)[index][\"Speech\"])\n",
    "        \n",
    "        # get the values from the scores dict\n",
    "        neg = scores['neg']\n",
    "        neu = scores['neu']\n",
    "        pos = scores['pos']\n",
    "        compound = scores['compound']\n",
    "        \n",
    "        # add the index and scores of this speech to the sentiment list\n",
    "        sentiments.append([year, code, neg, neu, pos, compound])\n",
    "\n",
    "    # convert the sentiment list to a dataframe with the ['Year', 'ISO-aplha3 Code'] index\n",
    "    return pd.DataFrame(sentiments, columns=['Year', 'ISO-alpha3 Code', 'Neg', 'Neu', 'Pos', 'Compound']).set_index(['Year', 'ISO-alpha3 Code'])\n"
   ]
  },
  {
   "cell_type": "code",
   "execution_count": 70,
   "id": "5a5ddcd1",
   "metadata": {},
   "outputs": [],
   "source": [
    "sentiment_df = sentiment(preprocessed_df)"
   ]
  },
  {
   "cell_type": "code",
   "execution_count": 71,
   "id": "9a7fca0f",
   "metadata": {},
   "outputs": [
    {
     "data": {
      "text/html": [
       "<div>\n",
       "<style scoped>\n",
       "    .dataframe tbody tr th:only-of-type {\n",
       "        vertical-align: middle;\n",
       "    }\n",
       "\n",
       "    .dataframe tbody tr th {\n",
       "        vertical-align: top;\n",
       "    }\n",
       "\n",
       "    .dataframe thead th {\n",
       "        text-align: right;\n",
       "    }\n",
       "</style>\n",
       "<table border=\"1\" class=\"dataframe\">\n",
       "  <thead>\n",
       "    <tr style=\"text-align: right;\">\n",
       "      <th></th>\n",
       "      <th>Neg</th>\n",
       "      <th>Neu</th>\n",
       "      <th>Pos</th>\n",
       "      <th>Compound</th>\n",
       "    </tr>\n",
       "  </thead>\n",
       "  <tbody>\n",
       "    <tr>\n",
       "      <th>min</th>\n",
       "      <td>0.014000</td>\n",
       "      <td>0.455000</td>\n",
       "      <td>0.123000</td>\n",
       "      <td>-0.999800</td>\n",
       "    </tr>\n",
       "    <tr>\n",
       "      <th>max</th>\n",
       "      <td>0.358000</td>\n",
       "      <td>0.747000</td>\n",
       "      <td>0.425000</td>\n",
       "      <td>1.000000</td>\n",
       "    </tr>\n",
       "    <tr>\n",
       "      <th>mean</th>\n",
       "      <td>0.123358</td>\n",
       "      <td>0.603206</td>\n",
       "      <td>0.273428</td>\n",
       "      <td>0.945970</td>\n",
       "    </tr>\n",
       "    <tr>\n",
       "      <th>var</th>\n",
       "      <td>0.001430</td>\n",
       "      <td>0.001306</td>\n",
       "      <td>0.001417</td>\n",
       "      <td>0.095096</td>\n",
       "    </tr>\n",
       "  </tbody>\n",
       "</table>\n",
       "</div>"
      ],
      "text/plain": [
       "           Neg       Neu       Pos  Compound\n",
       "min   0.014000  0.455000  0.123000 -0.999800\n",
       "max   0.358000  0.747000  0.425000  1.000000\n",
       "mean  0.123358  0.603206  0.273428  0.945970\n",
       "var   0.001430  0.001306  0.001417  0.095096"
      ]
     },
     "execution_count": 71,
     "metadata": {},
     "output_type": "execute_result"
    }
   ],
   "source": [
    "sentiment_df.aggregate([min, max, np.mean, np.var])"
   ]
  },
  {
   "cell_type": "code",
   "execution_count": 72,
   "id": "2c7bb5ee",
   "metadata": {
    "scrolled": true
   },
   "outputs": [
    {
     "data": {
      "text/html": [
       "<div>\n",
       "<style scoped>\n",
       "    .dataframe tbody tr th:only-of-type {\n",
       "        vertical-align: middle;\n",
       "    }\n",
       "\n",
       "    .dataframe tbody tr th {\n",
       "        vertical-align: top;\n",
       "    }\n",
       "\n",
       "    .dataframe thead th {\n",
       "        text-align: right;\n",
       "    }\n",
       "</style>\n",
       "<table border=\"1\" class=\"dataframe\">\n",
       "  <thead>\n",
       "    <tr style=\"text-align: right;\">\n",
       "      <th></th>\n",
       "      <th>Neg</th>\n",
       "      <th>Neu</th>\n",
       "      <th>Pos</th>\n",
       "      <th>Compound</th>\n",
       "    </tr>\n",
       "  </thead>\n",
       "  <tbody>\n",
       "    <tr>\n",
       "      <th>min</th>\n",
       "      <td>0.076000</td>\n",
       "      <td>0.461000</td>\n",
       "      <td>0.213000</td>\n",
       "      <td>-0.999700</td>\n",
       "    </tr>\n",
       "    <tr>\n",
       "      <th>max</th>\n",
       "      <td>0.315000</td>\n",
       "      <td>0.617000</td>\n",
       "      <td>0.354000</td>\n",
       "      <td>1.000000</td>\n",
       "    </tr>\n",
       "    <tr>\n",
       "      <th>mean</th>\n",
       "      <td>0.152941</td>\n",
       "      <td>0.556157</td>\n",
       "      <td>0.290804</td>\n",
       "      <td>0.846169</td>\n",
       "    </tr>\n",
       "    <tr>\n",
       "      <th>var</th>\n",
       "      <td>0.002006</td>\n",
       "      <td>0.001142</td>\n",
       "      <td>0.001123</td>\n",
       "      <td>0.282661</td>\n",
       "    </tr>\n",
       "  </tbody>\n",
       "</table>\n",
       "</div>"
      ],
      "text/plain": [
       "           Neg       Neu       Pos  Compound\n",
       "min   0.076000  0.461000  0.213000 -0.999700\n",
       "max   0.315000  0.617000  0.354000  1.000000\n",
       "mean  0.152941  0.556157  0.290804  0.846169\n",
       "var   0.002006  0.001142  0.001123  0.282661"
      ]
     },
     "execution_count": 72,
     "metadata": {},
     "output_type": "execute_result"
    }
   ],
   "source": [
    "sentiment_df.loc[[ t for t in sentiment_df.index if t[1] == 'USA']].aggregate([min, max, np.mean, np.var])"
   ]
  },
  {
   "cell_type": "code",
   "execution_count": 44,
   "id": "e3ec5046",
   "metadata": {
    "scrolled": true
   },
   "outputs": [],
   "source": [
    "sentiment_df.to_csv('sentiment.csv')"
   ]
  },
  {
   "cell_type": "code",
   "execution_count": null,
   "id": "fd32ee32",
   "metadata": {},
   "outputs": [],
   "source": []
  }
 ],
 "metadata": {
  "kernelspec": {
   "display_name": "Python 3 (ipykernel)",
   "language": "python",
   "name": "python3"
  },
  "language_info": {
   "codemirror_mode": {
    "name": "ipython",
    "version": 3
   },
   "file_extension": ".py",
   "mimetype": "text/x-python",
   "name": "python",
   "nbconvert_exporter": "python",
   "pygments_lexer": "ipython3",
   "version": "3.8.11"
  }
 },
 "nbformat": 4,
 "nbformat_minor": 5
}
