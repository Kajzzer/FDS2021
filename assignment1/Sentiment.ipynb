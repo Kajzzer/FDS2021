{
 "cells": [
  {
   "cell_type": "code",
   "execution_count": 1,
   "id": "df54dba1",
   "metadata": {},
   "outputs": [],
   "source": [
    "# general stuff\n",
    "import numpy as np\n",
    "import pandas as pd\n",
    "from os import walk\n",
    "import os\n",
    "\n",
    "# NLP stuff\n",
    "import string\n",
    "import nltk\n",
    "from nltk.tokenize import sent_tokenize, word_tokenize\n",
    "from nltk.stem import WordNetLemmatizer"
   ]
  },
  {
   "cell_type": "code",
   "execution_count": 2,
   "id": "139a3aec",
   "metadata": {},
   "outputs": [],
   "source": [
    "# load the datasets\n",
    "df = pd.read_csv('Data/raw_data.csv')\n",
    "df_codes = pd.read_csv('Data/UNSD_Methodology.csv')\n",
    "\n",
    "# merge the datasets\n",
    "df_merged = pd.merge(df_codes, df, on = 'ISO-alpha3 Code')\n",
    "\n",
    "# only keep a couple of rows that could help with indexing or merging and the speeches themselves\n",
    "df_merged = df_merged[[\"Country or Area\", \"ISO-alpha3 Code\", \"Session\", \"Year\", \"Speech\"]]\n",
    "\n",
    "# rename the country name column for possible merging with other datasets and set the muti index\n",
    "df_merged = df_merged.rename(columns={\"Country or Area\": \"Country\"})\n",
    "df_merged = df_merged.set_index([\"Year\", \"ISO-alpha3 Code\"])\n",
    "\n",
    "# sort the rows on the index and only keep the data of 2005 till now\n",
    "df = df_merged.sort_index(level=0)\n",
    "df = df.loc[2005:]"
   ]
  },
  {
   "cell_type": "code",
   "execution_count": 3,
   "id": "796767a1",
   "metadata": {},
   "outputs": [],
   "source": [
    "def remove_punctuation(text):\n",
    "    return [word.translate(string.punctuation) for word in text]\n",
    "\n",
    "def remove_stopwords(text):\n",
    "    nltk_stop_words = nltk.corpus.stopwords.words('english')\n",
    "    return [word for word in text if word not in nltk_stop_words]\n",
    "\n",
    "def lemmitization(text):\n",
    "    \n",
    "    # use the wordnet lemmatizer\n",
    "    wordnet_lemmatizer = WordNetLemmatizer()\n",
    "    \n",
    "    # only return the lemmatized words\n",
    "    nltk_lemmaList = []\n",
    "    for word in text:\n",
    "        nltk_lemmaList.append(wordnet_lemmatizer.lemmatize(word))\n",
    "    return nltk_lemmaList"
   ]
  },
  {
   "cell_type": "code",
   "execution_count": 4,
   "id": "9705ea4e",
   "metadata": {},
   "outputs": [],
   "source": [
    "def preprocess_data(data, preprocess_functions):\n",
    "    \"Performs given preprocessing functions on all text in a given dataframe\"\n",
    "    \n",
    "    # the initial list to store the processed speeches in\n",
    "    processed = []\n",
    "    \n",
    "    # iterate over all indices of the given dataframe\n",
    "    for index in data.index:\n",
    "        \n",
    "        # get the speech of this index and make it all lower case\n",
    "        speech = data['Speech'][index].lower()\n",
    "        \n",
    "        # skip this speech if it's not a string value\n",
    "        if not isinstance(speech, str):\n",
    "            continue\n",
    "        \n",
    "        # remove the \\t and \\n from the speech\n",
    "        speech = speech.replace(\"\\t\", \" \").replace(\"\\n\", \" \")\n",
    "        \n",
    "        # tokenize the speech\n",
    "        tokens = word_tokenize(speech)\n",
    "        \n",
    "        # move the tokenized text through the given preprocessing functions\n",
    "        for function in preprocess_functions:\n",
    "            tokens = function(tokens)\n",
    "            \n",
    "        # create a single string from the preprocessed tokens\n",
    "        processed_speech = \" \".join(tokens)\n",
    "        \n",
    "        # deconstruct the index\n",
    "        [year, code] = index\n",
    "        \n",
    "        # add the index and processed speech to this row\n",
    "        processed.append([year, code, processed_speech])\n",
    "        \n",
    "    # convert the preprocessed speeches to a dataframe with the ['Year', 'ISO-aplha3 Code'] index\n",
    "    return pd.DataFrame(processed, columns=['Year', 'ISO-alpha3 Code', 'Speech']).set_index(['Year', 'ISO-alpha3 Code'])\n"
   ]
  },
  {
   "cell_type": "code",
   "execution_count": 5,
   "id": "88307b34",
   "metadata": {},
   "outputs": [],
   "source": [
    "# preprocess the data (only the lemmitization)\n",
    "preprocessed_df = preprocess_data(df, [remove_stopwords, remove_punctuation, lemmitization])"
   ]
  },
  {
   "cell_type": "code",
   "execution_count": 6,
   "id": "d607169e",
   "metadata": {},
   "outputs": [],
   "source": [
    "from nltk.sentiment import SentimentIntensityAnalyzer\n",
    "\n",
    "def sentiment(df):\n",
    "    \n",
    "    # the sentiment analyzer we're going to use\n",
    "    sia = SentimentIntensityAnalyzer()\n",
    "\n",
    "    # the initial list to store the sentiment values in\n",
    "    sentiments = []\n",
    "\n",
    "    # iterate over all indices of the given dataframe\n",
    "    for index in df.index:\n",
    "\n",
    "        # deconstruct the current index\n",
    "        [year, code] = index\n",
    "\n",
    "        # get the polarity/sentiment score of the speech\n",
    "        scores = sia.polarity_scores(df.loc(axis=0)[index][\"Speech\"])\n",
    "        \n",
    "        # get the values from the scores dict\n",
    "        neg = scores['neg']\n",
    "        neu = scores['neu']\n",
    "        pos = scores['pos']\n",
    "        compound = scores['compound']\n",
    "        \n",
    "        # add the index and scores of this speech to the sentiment list\n",
    "        sentiments.append([year, code, neg, neu, pos, compound])\n",
    "\n",
    "    # convert the sentiment list to a dataframe with the ['Year', 'ISO-aplha3 Code'] index\n",
    "    return pd.DataFrame(sentiments, columns=['Year', 'ISO-alpha3 Code', 'Neg', 'Neu', 'Pos', 'Compound']).set_index(['Year', 'ISO-alpha3 Code'])\n"
   ]
  },
  {
   "cell_type": "code",
   "execution_count": 7,
   "id": "5a5ddcd1",
   "metadata": {},
   "outputs": [],
   "source": [
    "# calculate the sentiment of the speeches\n",
    "sentiment_df = sentiment(preprocessed_df)"
   ]
  },
  {
   "cell_type": "code",
   "execution_count": 8,
   "id": "fd32ee32",
   "metadata": {},
   "outputs": [],
   "source": [
    "# merge the speeches and sentiment dataframes\n",
    "merged_df = preprocessed_df.merge(sentiment_df, left_index = True, right_index = True)"
   ]
  },
  {
   "cell_type": "code",
   "execution_count": 9,
   "id": "1c9c93c5",
   "metadata": {},
   "outputs": [],
   "source": [
    "# store the merged dataframe as a csv \n",
    "merged_df.to_csv('Data/speeches_sentiment.csv')"
   ]
  },
  {
   "cell_type": "code",
   "execution_count": null,
   "id": "74854a1d",
   "metadata": {},
   "outputs": [],
   "source": []
  }
 ],
 "metadata": {
  "kernelspec": {
   "display_name": "Python 3 (ipykernel)",
   "language": "python",
   "name": "python3"
  },
  "language_info": {
   "codemirror_mode": {
    "name": "ipython",
    "version": 3
   },
   "file_extension": ".py",
   "mimetype": "text/x-python",
   "name": "python",
   "nbconvert_exporter": "python",
   "pygments_lexer": "ipython3",
   "version": "3.8.11"
  }
 },
 "nbformat": 4,
 "nbformat_minor": 5
}
